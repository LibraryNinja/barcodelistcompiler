{
 "cells": [
  {
   "cell_type": "code",
   "execution_count": null,
   "id": "fb9efb7e",
   "metadata": {},
   "outputs": [],
   "source": [
    "import os\n",
    "import docx\n",
    "import pandas as pd\n",
    "import re\n",
    "from datetime import datetime\n",
    "# get current date and time to include in filename\n",
    "date = datetime.now().strftime(\"%m%d%y\")\n",
    "\n",
    "#Todo: write regex to remove anything other than barcodes from the input files"
   ]
  },
  {
   "cell_type": "markdown",
   "id": "b66dbf17",
   "metadata": {},
   "source": [
    "## Specify the path and convert it to raw data"
   ]
  },
  {
   "cell_type": "code",
   "execution_count": null,
   "id": "a6133c36",
   "metadata": {
    "scrolled": true
   },
   "outputs": [],
   "source": [
    "pathFolder = input('Current path to use: ')\n",
    "rawFolder = r\"{}\".format(pathFolder)"
   ]
  },
  {
   "cell_type": "markdown",
   "id": "d9013f8b",
   "metadata": {},
   "source": [
    "## Sets the folder variable as the folder specified, and the files as what's in the folder (and then displays the files in the folder)"
   ]
  },
  {
   "cell_type": "code",
   "execution_count": null,
   "id": "d115a867",
   "metadata": {},
   "outputs": [],
   "source": [
    "folder = rawFolder\n",
    "files = os.listdir(folder)\n",
    "files"
   ]
  },
  {
   "cell_type": "markdown",
   "id": "2580ff8c",
   "metadata": {},
   "source": [
    "## Sets up empty list, loops through the .docx files in the previously-specified folder, and appends all \"paragraphs\" to the empty list"
   ]
  },
  {
   "cell_type": "code",
   "execution_count": null,
   "id": "612058cc",
   "metadata": {},
   "outputs": [],
   "source": [
    "fullText = []\n",
    "for file in files:\n",
    "    if file.endswith('.docx'):\n",
    "        doc = docx.Document(f'{folder}/{file}')\n",
    "        for para in doc.paragraphs:\n",
    "            fullText.append(para.text) \n",
    "print(fullText)"
   ]
  },
  {
   "cell_type": "markdown",
   "id": "775ec400",
   "metadata": {},
   "source": [
    "## Takes the list and converts it to a dataframe, strips out all white spaces and rows that are just \"\""
   ]
  },
  {
   "cell_type": "code",
   "execution_count": null,
   "id": "51cc7c0a",
   "metadata": {
    "scrolled": true
   },
   "outputs": [],
   "source": [
    "df = pd.DataFrame (fullText, columns = ['barcode'])\n",
    "df['barcode'] = df['barcode'].str.replace(\" \",\"\")\n",
    "df.dropna(inplace=True)\n",
    "df.drop(df.index[df['barcode'] == \"\"], inplace=True)\n",
    "print(df)"
   ]
  },
  {
   "cell_type": "markdown",
   "id": "ab580ff4",
   "metadata": {},
   "source": [
    "## Prints the Dataframe to the original folder as a text file without the index, separated by new lines, with a date stamp"
   ]
  },
  {
   "cell_type": "code",
   "execution_count": null,
   "id": "1bf3b985",
   "metadata": {},
   "outputs": [],
   "source": [
    "df.to_csv(rawFolder + '\\\\' + 'barcodelist' + date + '.txt', index=None, sep='\\n', mode='w')"
   ]
  }
 ],
 "metadata": {
  "kernelspec": {
   "display_name": "Python 3 (ipykernel)",
   "language": "python",
   "name": "python3"
  },
  "language_info": {
   "codemirror_mode": {
    "name": "ipython",
    "version": 3
   },
   "file_extension": ".py",
   "mimetype": "text/x-python",
   "name": "python",
   "nbconvert_exporter": "python",
   "pygments_lexer": "ipython3",
   "version": "3.9.1"
  },
  "varInspector": {
   "cols": {
    "lenName": 16,
    "lenType": 16,
    "lenVar": 40
   },
   "kernels_config": {
    "python": {
     "delete_cmd_postfix": "",
     "delete_cmd_prefix": "del ",
     "library": "var_list.py",
     "varRefreshCmd": "print(var_dic_list())"
    },
    "r": {
     "delete_cmd_postfix": ") ",
     "delete_cmd_prefix": "rm(",
     "library": "var_list.r",
     "varRefreshCmd": "cat(var_dic_list()) "
    }
   },
   "types_to_exclude": [
    "module",
    "function",
    "builtin_function_or_method",
    "instance",
    "_Feature"
   ],
   "window_display": false
  }
 },
 "nbformat": 4,
 "nbformat_minor": 5
}
